{
 "cells": [
  {
   "cell_type": "code",
   "execution_count": 33,
   "metadata": {},
   "outputs": [],
   "source": [
    "import pandas as pd\n",
    "\n",
    "import mmcv\n",
    "from mmengine.fileio import dump, load\n",
    "from mmengine.utils import track_iter_progress\n",
    "\n",
    "import os.path as osp\n",
    "import glob \n"
   ]
  },
  {
   "cell_type": "code",
   "execution_count": 34,
   "metadata": {},
   "outputs": [],
   "source": [
    "train_images = '/home/neau/sdb/datasets/OpenDataLab___Global_Wheat/raw/gwhd_2021/images/'\n",
    "train_label_csv = '/home/neau/sdb/datasets/OpenDataLab___Global_Wheat/raw/gwhd_2021/competition_train.csv'\n",
    "train_label_output = ''\n"
   ]
  },
  {
   "cell_type": "code",
   "execution_count": 42,
   "metadata": {},
   "outputs": [
    {
     "name": "stdout",
     "output_type": "stream",
     "text": [
      "[                                                  ] 0/3657, elapsed: 0s, ETA:"
     ]
    },
    {
     "ename": "NameError",
     "evalue": "name 'train_images' is not defined",
     "output_type": "error",
     "traceback": [
      "\u001b[0;31m---------------------------------------------------------------------------\u001b[0m",
      "\u001b[0;31mNameError\u001b[0m                                 Traceback (most recent call last)",
      "Cell \u001b[0;32mIn[42], line 17\u001b[0m\n\u001b[1;32m     13\u001b[0m BoxesString_list \u001b[39m=\u001b[39m BoxesString\u001b[39m.\u001b[39msplit(\u001b[39m'\u001b[39m\u001b[39m;\u001b[39m\u001b[39m'\u001b[39m)\n\u001b[1;32m     14\u001b[0m BoxesString_list \u001b[39m=\u001b[39m [[\u001b[39mint\u001b[39m(j) \u001b[39mfor\u001b[39;00m j \u001b[39min\u001b[39;00m i\u001b[39m.\u001b[39msplit(\u001b[39m'\u001b[39m\u001b[39m \u001b[39m\u001b[39m'\u001b[39m)]\n\u001b[1;32m     15\u001b[0m                     \u001b[39mfor\u001b[39;00m i \u001b[39min\u001b[39;00m BoxesString_list]\n\u001b[0;32m---> 17\u001b[0m img \u001b[39m=\u001b[39m mmcv\u001b[39m.\u001b[39mimread(osp\u001b[39m.\u001b[39mjoin(train_images, image_name))\n\u001b[1;32m     18\u001b[0m height, width, _ \u001b[39m=\u001b[39m img\u001b[39m.\u001b[39mshape\n\u001b[1;32m     19\u001b[0m images\u001b[39m.\u001b[39mappend(\n\u001b[1;32m     20\u001b[0m     \u001b[39mdict\u001b[39m(\u001b[39mid\u001b[39m\u001b[39m=\u001b[39mi, file_name\u001b[39m=\u001b[39mimage_name, height\u001b[39m=\u001b[39mheight, width\u001b[39m=\u001b[39mwidth))\n",
      "\u001b[0;31mNameError\u001b[0m: name 'train_images' is not defined"
     ]
    }
   ],
   "source": [
    "images = []\n",
    "annotations = []\n",
    "pd_train = pd.read_csv('/home/neau/sdb/datasets/OpenDataLab___Global_Wheat/raw/gwhd_2021/competition_train.csv')\n",
    "count_ann = 0\n",
    "for i in track_iter_progress(range(pd_train.shape[0])):\n",
    "    item = pd_train.iloc[i]\n",
    "    image_name = item['image_name']\n",
    "    BoxesString = item['BoxesString']\n",
    "\n",
    "    if BoxesString == 'no_box':\n",
    "        continue\n",
    "    \n",
    "    BoxesString_list = BoxesString.split(';')\n",
    "    BoxesString_list = [[int(j) for j in i.split(' ')]\n",
    "                        for i in BoxesString_list]\n",
    "\n",
    "    img = mmcv.imread(osp.join(train_images, image_name))\n",
    "    height, width, _ = img.shape\n",
    "    images.append(\n",
    "        dict(id=i, file_name=image_name, height=height, width=width))\n",
    "\n",
    "    for idx,boxx in enumerate(BoxesString_list):\n",
    "        \n",
    "        x_min, y_min, x_max, y_max = boxx\n",
    "        w_bbox = x_min - x_max\n",
    "        h_bbox = y_max - y_min\n",
    "        annotations.append(\n",
    "            dict(\n",
    "            image_id=i,\n",
    "            id=count_ann,\n",
    "            category_id=0,\n",
    "            bbox=[x_min, y_min, w_bbox, h_bbox],\n",
    "            area=w_bbox * h_bbox,\n",
    "            segmentation=[],\n",
    "            iscrowd=0\n",
    "        )\n",
    "        )\n",
    "        count_ann += 1\n",
    "coco_format_json = dict(\n",
    "    images=images,\n",
    "    annotations=annotations,\n",
    "    categories=[{\n",
    "        'id': 0,\n",
    "        'name': 'wheat'\n",
    "    }])\n",
    "dump(coco_format_json, 'out_file.json')"
   ]
  },
  {
   "cell_type": "code",
   "execution_count": 41,
   "metadata": {},
   "outputs": [
    {
     "data": {
      "text/plain": [
       "0"
      ]
     },
     "execution_count": 41,
     "metadata": {},
     "output_type": "execute_result"
    }
   ],
   "source": [
    "len(annotations)"
   ]
  },
  {
   "cell_type": "code",
   "execution_count": null,
   "metadata": {},
   "outputs": [],
   "source": []
  }
 ],
 "metadata": {
  "kernelspec": {
   "display_name": "openmmlab",
   "language": "python",
   "name": "python3"
  },
  "language_info": {
   "codemirror_mode": {
    "name": "ipython",
    "version": 3
   },
   "file_extension": ".py",
   "mimetype": "text/x-python",
   "name": "python",
   "nbconvert_exporter": "python",
   "pygments_lexer": "ipython3",
   "version": "3.8.16"
  },
  "orig_nbformat": 4
 },
 "nbformat": 4,
 "nbformat_minor": 2
}
