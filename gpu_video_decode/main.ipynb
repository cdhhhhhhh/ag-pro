{
 "cells": [
  {
   "cell_type": "code",
   "execution_count": 1,
   "metadata": {},
   "outputs": [
    {
     "name": "stderr",
     "output_type": "stream",
     "text": [
      "ffmpeg version 4.3 Copyright (c) 2000-2020 the FFmpeg developers\n",
      "  built with gcc 7.3.0 (crosstool-NG 1.23.0.449-a04d0)\n",
      "  configuration: --prefix=/opt/conda/conda-bld/ffmpeg_1597178665428/_h_env_placehold_placehold_placehold_placehold_placehold_placehold_placehold_placehold_placehold_placehold_placehold_placehold_placehold_placehold_placehold_placehold_placehold_placehold_placehold_placehold_placeh --cc=/opt/conda/conda-bld/ffmpeg_1597178665428/_build_env/bin/x86_64-conda_cos6-linux-gnu-cc --disable-doc --disable-openssl --enable-avresample --enable-gnutls --enable-hardcoded-tables --enable-libfreetype --enable-libopenh264 --enable-pic --enable-pthreads --enable-shared --disable-static --enable-version3 --enable-zlib --enable-libmp3lame\n",
      "  libavutil      56. 51.100 / 56. 51.100\n",
      "  libavcodec     58. 91.100 / 58. 91.100\n",
      "  libavformat    58. 45.100 / 58. 45.100\n",
      "  libavdevice    58. 10.100 / 58. 10.100\n",
      "  libavfilter     7. 85.100 /  7. 85.100\n",
      "  libavresample   4.  0.  0 /  4.  0.  0\n",
      "  libswscale      5.  7.100 /  5.  7.100\n",
      "  libswresample   3.  7.100 /  3.  7.100\n",
      "WARNING: defaulting hwaccel_output_format to cuda for compatibility with old commandlines. This behaviour is DEPRECATED and will be removed in the future. Please explicitly set \"-hwaccel_output_format cuda\".\n",
      "Input #0, rtsp, from 'rtsp://172.16.254.191:8554/test.264':\n",
      "  Metadata:\n",
      "    title           : H.264 Video, streamed by the LIVE555 Media Server\n",
      "    comment         : test.264\n",
      "  Duration: N/A, start: 0.033367, bitrate: N/A\n",
      "    Stream #0:0: Video: h264 (High), yuv420p(tv, bt709, progressive), 1280x720 [SAR 1:1 DAR 16:9], 29.97 fps, 29.97 tbr, 90k tbn, 59.94 tbc\n",
      "Multiple -c, -codec, -acodec, -vcodec, -scodec or -dcodec options specified for stream 0, only the last option '-c:v h264_nvenc' will be used.\n",
      "Unknown encoder 'h264_nvenc'\n"
     ]
    },
    {
     "ename": "ValueError",
     "evalue": "cannot reshape array of size 0 into shape (720,1280)",
     "output_type": "error",
     "traceback": [
      "\u001b[0;31m---------------------------------------------------------------------------\u001b[0m",
      "\u001b[0;31mValueError\u001b[0m                                Traceback (most recent call last)",
      "Cell \u001b[0;32mIn[1], line 36\u001b[0m\n\u001b[1;32m     34\u001b[0m \u001b[39mfor\u001b[39;00m i \u001b[39min\u001b[39;00m ffmpegs:\n\u001b[1;32m     35\u001b[0m     x \u001b[39m=\u001b[39m i\u001b[39m.\u001b[39mstdout\u001b[39m.\u001b[39mread(\u001b[39mint\u001b[39m(w\u001b[39m*\u001b[39mh\u001b[39m*\u001b[39m\u001b[39m6\u001b[39m\u001b[39m/\u001b[39m\u001b[39m/\u001b[39m\u001b[39m4\u001b[39m))  \u001b[39m# read bytes of single frames\u001b[39;00m\n\u001b[0;32m---> 36\u001b[0m     y \u001b[39m=\u001b[39m  np\u001b[39m.\u001b[39;49mfrombuffer(x[\u001b[39m0\u001b[39;49m:k], dtype\u001b[39m=\u001b[39;49mnp\u001b[39m.\u001b[39;49muint8)\u001b[39m.\u001b[39;49mreshape((h, w))\n\u001b[1;32m     37\u001b[0m     u \u001b[39m=\u001b[39m  np\u001b[39m.\u001b[39mfrombuffer(x[k:k\u001b[39m+\u001b[39mk\u001b[39m/\u001b[39m\u001b[39m/\u001b[39m\u001b[39m4\u001b[39m], dtype\u001b[39m=\u001b[39mnp\u001b[39m.\u001b[39muint8)\u001b[39m.\u001b[39mreshape((h\u001b[39m/\u001b[39m\u001b[39m/\u001b[39m\u001b[39m2\u001b[39m, w\u001b[39m/\u001b[39m\u001b[39m/\u001b[39m\u001b[39m2\u001b[39m))\n\u001b[1;32m     38\u001b[0m     v \u001b[39m=\u001b[39m  np\u001b[39m.\u001b[39mfrombuffer(x[k\u001b[39m+\u001b[39mk\u001b[39m/\u001b[39m\u001b[39m/\u001b[39m\u001b[39m4\u001b[39m:], dtype\u001b[39m=\u001b[39mnp\u001b[39m.\u001b[39muint8)\u001b[39m.\u001b[39mreshape((h\u001b[39m/\u001b[39m\u001b[39m/\u001b[39m\u001b[39m2\u001b[39m, w\u001b[39m/\u001b[39m\u001b[39m/\u001b[39m\u001b[39m2\u001b[39m))\n",
      "\u001b[0;31mValueError\u001b[0m: cannot reshape array of size 0 into shape (720,1280)"
     ]
    }
   ],
   "source": [
    "import subprocess as sp\n",
    "import cv2 \n",
    "import numpy as np\n",
    "from PIL import Image\n",
    "\n",
    "\n",
    "ffmpeg_cmd_1 = [\"ffmpeg\",  \"-y\",  \n",
    "              \"-hwaccel\",  \"cuvid\",\n",
    "              \"-vsync\", \"0\", \n",
    "              \"-i\",  \"rtsp://172.16.254.191:8554/test.264\", \n",
    "              \"-c:v\", \"h264_nvenc\",\n",
    "              \"-f\", \"rawvideo\",\n",
    "              \"-c:v\",\n",
    "              \"h264_nvenc\",\n",
    "              \"test.mp4\"\n",
    "              ]\n",
    "\n",
    "\n",
    "ffmpeg1 = sp.Popen(ffmpeg_cmd_1, stdout=sp.PIPE, bufsize=10)\n",
    "\n",
    "\n",
    "\n",
    "\n",
    "\n",
    "ffmpegs = [ffmpeg1]\n",
    "\n",
    "\n",
    "w = 1280\n",
    "h = 720\n",
    "k = w*h\n",
    "ys = []\n",
    "us = []\n",
    "vs = []\n",
    "for i in ffmpegs:\n",
    "    x = i.stdout.read(int(w*h*6//4))  # read bytes of single frames\n",
    "    y =  np.frombuffer(x[0:k], dtype=np.uint8).reshape((h, w))\n",
    "    u =  np.frombuffer(x[k:k+k//4], dtype=np.uint8).reshape((h//2, w//2))\n",
    "    v =  np.frombuffer(x[k+k//4:], dtype=np.uint8).reshape((h//2, w//2))\n",
    "    u = np.reshape(cv2.resize(np.expand_dims(u, -1), (w, h)), (h, w))\n",
    "    v = np.reshape(cv2.resize(np.expand_dims(v, -1), (w, h)), (h, w))\n",
    "    image = np.stack([y, u, v], axis=-1)\n",
    "    ys.append(y)\n",
    "    us.append(u)\n",
    "    vs.append(v)\n"
   ]
  },
  {
   "cell_type": "code",
   "execution_count": null,
   "metadata": {},
   "outputs": [],
   "source": []
  }
 ],
 "metadata": {
  "kernelspec": {
   "display_name": "openmmlab",
   "language": "python",
   "name": "python3"
  },
  "language_info": {
   "codemirror_mode": {
    "name": "ipython",
    "version": 3
   },
   "file_extension": ".py",
   "mimetype": "text/x-python",
   "name": "python",
   "nbconvert_exporter": "python",
   "pygments_lexer": "ipython3",
   "version": "3.8.16"
  },
  "orig_nbformat": 4
 },
 "nbformat": 4,
 "nbformat_minor": 2
}
