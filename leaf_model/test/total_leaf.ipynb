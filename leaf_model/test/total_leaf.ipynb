{
 "cells": [
  {
   "cell_type": "code",
   "execution_count": 1,
   "metadata": {},
   "outputs": [],
   "source": [
    "import pandas as pd\n",
    "import json\n",
    "import glob\n",
    "import os\n",
    "import tqdm"
   ]
  },
  {
   "cell_type": "code",
   "execution_count": 4,
   "metadata": {},
   "outputs": [],
   "source": [
    "dir_path_list = [\n",
    "    # '/home/neau/sdb/ag-pro/leaf_model/output/0701',\n",
    "    #              '/home/neau/sdb/ag-pro/leaf_model/output/0708',\n",
    "    #              '/home/neau/sdb/ag-pro/leaf_model/output/0713',\n",
    "                 '/home/neau/sdb/ag-pro/leaf_model/output/0613',\n",
    "                 '/home/neau/sdb/ag-pro/leaf_model/output/0620',\n",
    "                 '/home/neau/sdb/ag-pro/leaf_model/output/0625',]"
   ]
  },
  {
   "cell_type": "code",
   "execution_count": 5,
   "metadata": {},
   "outputs": [],
   "source": [
    "for dir_path in dir_path_list:\n",
    "\n",
    "    pd_df = pd.DataFrame(\n",
    "        [], columns=['小区号', '冠层叶子数量', '冠层叶面积(每平方毫米)', '冠层像素数'])\n",
    "    pd_name = dir_path.split('/')[-1]\n",
    "    for index, josn_p in enumerate(glob.glob(dir_path + '/*.json')):\n",
    "        with open(josn_p) as fs:\n",
    "            j = json.load(fs)\n",
    "        filename = j['imagePath'].split('/')[-1].split('.')[0][5:]\n",
    "\n",
    "        area = 0\n",
    "        for shape in j['shapes']:\n",
    "            x1, y1 = shape['points'][0]\n",
    "            x2, y2 = shape['points'][1]\n",
    "\n",
    "        area += int((x2 - x1) * (y2 - y1))\n",
    "\n",
    "        pd_df.loc[index] = [int(filename), len(j['shapes']), area*0.0018, area]\n",
    "    pd_df = pd_df.sort_values('小区号')\n",
    "    pd_df.to_excel(pd_name+'.xlsx')"
   ]
  },
  {
   "cell_type": "code",
   "execution_count": null,
   "metadata": {},
   "outputs": [],
   "source": []
  }
 ],
 "metadata": {
  "kernelspec": {
   "display_name": "openmmlab",
   "language": "python",
   "name": "python3"
  },
  "language_info": {
   "codemirror_mode": {
    "name": "ipython",
    "version": 3
   },
   "file_extension": ".py",
   "mimetype": "text/x-python",
   "name": "python",
   "nbconvert_exporter": "python",
   "pygments_lexer": "ipython3",
   "version": "3.8.16"
  },
  "orig_nbformat": 4
 },
 "nbformat": 4,
 "nbformat_minor": 2
}
