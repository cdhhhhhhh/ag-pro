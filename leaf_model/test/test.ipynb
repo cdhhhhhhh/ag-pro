{
 "cells": [
  {
   "cell_type": "code",
   "execution_count": 1,
   "metadata": {},
   "outputs": [],
   "source": [
    "import torch"
   ]
  },
  {
   "cell_type": "code",
   "execution_count": 2,
   "metadata": {},
   "outputs": [
    {
     "data": {
      "text/plain": [
       "0"
      ]
     },
     "execution_count": 2,
     "metadata": {},
     "output_type": "execute_result"
    }
   ],
   "source": [
    "torch.cuda.current_device()"
   ]
  },
  {
   "cell_type": "code",
   "execution_count": 14,
   "metadata": {},
   "outputs": [
    {
     "name": "stdout",
     "output_type": "stream",
     "text": [
      "[1600, 870, 1278, 2778]\n"
     ]
    }
   ],
   "source": [
    "import subprocess\n",
    "\n",
    "def get_gpu_memory():\n",
    "    try:\n",
    "        _output_to_list = lambda x: x.decode('ascii').split('\\n')[:-1]\n",
    "        ACCEPTABLE_AVAILABLE_MEMORY = 1024  # MB\n",
    "        COMMAND = \"nvidia-smi --query-gpu=memory.free --format=csv\"\n",
    "        memory_free_info = _output_to_list(subprocess.check_output(COMMAND.split()))[1:]\n",
    "        memory_free_values = [int(x.split()[0]) for i, x in enumerate(memory_free_info)]\n",
    "        return memory_free_values\n",
    "    except Exception as e:\n",
    "        print(f\"Error: {e}\")\n",
    "        return None\n",
    "\n",
    "print(get_gpu_memory())\n"
   ]
  },
  {
   "cell_type": "code",
   "execution_count": 5,
   "metadata": {},
   "outputs": [
    {
     "data": {
      "text/plain": [
       "'NVIDIA GeForce RTX 2080 Ti'"
      ]
     },
     "execution_count": 5,
     "metadata": {},
     "output_type": "execute_result"
    }
   ],
   "source": [
    "torch.cuda.get_device_name(0)"
   ]
  },
  {
   "cell_type": "code",
   "execution_count": 13,
   "metadata": {},
   "outputs": [
    {
     "data": {
      "text/plain": [
       "0"
      ]
     },
     "execution_count": 13,
     "metadata": {},
     "output_type": "execute_result"
    }
   ],
   "source": [
    "torch.cuda.memory_allocated(0)"
   ]
  },
  {
   "cell_type": "code",
   "execution_count": 2,
   "metadata": {},
   "outputs": [],
   "source": [
    "import pandas as pd"
   ]
  },
  {
   "cell_type": "code",
   "execution_count": 3,
   "metadata": {},
   "outputs": [],
   "source": [
    "columns = ['name','epoch','val/coco/bbox_mAP', 'val/coco/bbox_mAP_50', 'val/coco/bbox_mAP_75', 'val/coco/bbox_mAP_s', 'val/coco/bbox_mAP_m', 'val/coco/bbox_mAP_l', 'val/coco/recall', 'val/coco/round_iou0.5_ap', 'val/coco/round_iou0.5_recall', 'val/coco/sharp_iou0.5_ap', 'val/coco/sharp_iou0.5_recall', 'gpu']\n",
    "pd.DataFrame([[0 for _ in columns]],columns=columns).to_csv('totals.csv',index=False)"
   ]
  },
  {
   "cell_type": "code",
   "execution_count": 3,
   "metadata": {},
   "outputs": [],
   "source": [
    "val_pd = pd.read_csv('/home/neau/sdb/ag-pro/leaf_model/work_dirs/yolov8-s/val_log.csv')\n",
    "best_dic = val_pd[val_pd['val/coco/bbox_mAP_50'] == val_pd['val/coco/bbox_mAP_50'].max()].iloc[0].to_dict()\n",
    "best_i = val_pd[val_pd['val/coco/bbox_mAP_50'] == val_pd['val/coco/bbox_mAP_50'].max()].iloc[0].index.values[0]\n",
    "best_dic['gpu'] = { best_i : 'dasdad' }\n",
    "best_dic['name'] = { best_i : 'yolov8-s' }\n"
   ]
  },
  {
   "cell_type": "code",
   "execution_count": 5,
   "metadata": {},
   "outputs": [
    {
     "data": {
      "text/plain": [
       "{'Unnamed: 0': 23.0,\n",
       " 'val/coco/bbox_mAP': 0.294,\n",
       " 'val/coco/bbox_mAP_50': 0.789,\n",
       " 'val/coco/bbox_mAP_75': 0.271,\n",
       " 'val/coco/bbox_mAP_s': 0.189,\n",
       " 'val/coco/bbox_mAP_m': 0.39,\n",
       " 'val/coco/bbox_mAP_l': 0.482,\n",
       " 'val/coco/recall': 0.906,\n",
       " 'val/coco/round_iou0.5_ap': 0.815,\n",
       " 'val/coco/round_iou0.5_recall': 0.937,\n",
       " 'val/coco/sharp_iou0.5_ap': 0.764,\n",
       " 'val/coco/sharp_iou0.5_recall': 0.875,\n",
       " 'epoch': 240.0}"
      ]
     },
     "execution_count": 5,
     "metadata": {},
     "output_type": "execute_result"
    }
   ],
   "source": [
    "best_dic"
   ]
  },
  {
   "cell_type": "code",
   "execution_count": 1,
   "metadata": {},
   "outputs": [],
   "source": [
    "from mmengine.config import Config, DictAction\n"
   ]
  },
  {
   "cell_type": "code",
   "execution_count": 2,
   "metadata": {},
   "outputs": [],
   "source": [
    "a = {\n",
    "    'd':1\n",
    "}"
   ]
  },
  {
   "cell_type": "code",
   "execution_count": 5,
   "metadata": {},
   "outputs": [
    {
     "data": {
      "text/plain": [
       "True"
      ]
     },
     "execution_count": 5,
     "metadata": {},
     "output_type": "execute_result"
    }
   ],
   "source": [
    "'d' in a"
   ]
  },
  {
   "cell_type": "code",
   "execution_count": null,
   "metadata": {},
   "outputs": [],
   "source": []
  },
  {
   "cell_type": "code",
   "execution_count": null,
   "metadata": {},
   "outputs": [],
   "source": []
  }
 ],
 "metadata": {
  "kernelspec": {
   "display_name": "openmmlab",
   "language": "python",
   "name": "python3"
  },
  "language_info": {
   "codemirror_mode": {
    "name": "ipython",
    "version": 3
   },
   "file_extension": ".py",
   "mimetype": "text/x-python",
   "name": "python",
   "nbconvert_exporter": "python",
   "pygments_lexer": "ipython3",
   "version": "3.8.16"
  },
  "orig_nbformat": 4
 },
 "nbformat": 4,
 "nbformat_minor": 2
}
