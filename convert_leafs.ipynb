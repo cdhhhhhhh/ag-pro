{
 "cells": [
  {
   "cell_type": "code",
   "execution_count": 1,
   "metadata": {},
   "outputs": [],
   "source": [
    "import os.path as osp\n",
    "\n",
    "import mmcv\n",
    "from mmengine.fileio import dump, load\n",
    "from mmengine.utils import track_iter_progress\n",
    "\n",
    "\n",
    "import glob \n"
   ]
  },
  {
   "cell_type": "code",
   "execution_count": 2,
   "metadata": {},
   "outputs": [],
   "source": [
    "def convert_to_coco(image_prefix,out_file):\n",
    "    images = []\n",
    "    annotations = []\n",
    "\n",
    "    obj_count = 0\n",
    "    for idx,image_pathname in enumerate(track_iter_progress(glob.glob(osp.join(image_prefix,'images','*')))):\n",
    "        image_name = image_pathname.split('/')[-1]\n",
    "        label_pathname =  glob.glob(osp.join(image_prefix,'labels',f'{image_name[:-4]}*'))[0]\n",
    "        \n",
    "        height, width = mmcv.imread(image_pathname).shape[:2]\n",
    "        images.append(\n",
    "            dict(id=idx, file_name=image_name, height=height, width=width))\n",
    "        \n",
    "        \n",
    "        with open(label_pathname) as file :\n",
    "\n",
    "            data_infos = file.readlines()\n",
    "            for data_info in data_infos:\n",
    "                category_id,x_center, y_center, w_bbox, h_bbox = [float(i) for i in data_info.split(' ')]\n",
    "                \n",
    "                x_center = int(x_center * width)\n",
    "                y_center = int(y_center * height)\n",
    "                w_bbox   = int(w_bbox * width)\n",
    "                h_bbox   = int(h_bbox * height)\n",
    "                \n",
    "                x_min = int(x_center - w_bbox / 2)\n",
    "                y_min = int(y_center - h_bbox / 2)\n",
    "\n",
    "\n",
    "                annotations.append(dict(\n",
    "                            image_id=idx,\n",
    "                            id=obj_count,\n",
    "                            category_id=int(category_id),\n",
    "                            bbox=[x_min, y_min, w_bbox, h_bbox],\n",
    "                            area=w_bbox * h_bbox,\n",
    "                            segmentation=[],\n",
    "                            iscrowd=0))\n",
    "                obj_count += 1\n",
    "    coco_format_json = dict(\n",
    "        images=images,\n",
    "        annotations=annotations,\n",
    "        categories=[{\n",
    "            'id': 0,\n",
    "            'name': 'round'\n",
    "        },\n",
    "        {\n",
    "            'id': 1,\n",
    "            'name': 'shape'\n",
    "        }])\n",
    "    dump(coco_format_json, out_file)"
   ]
  },
  {
   "cell_type": "code",
   "execution_count": 3,
   "metadata": {},
   "outputs": [
    {
     "name": "stdout",
     "output_type": "stream",
     "text": [
      "[>>>>>>>>>>>>>>>>>>>>>>>>>>>>>>] 116/116, 27.8 task/s, elapsed: 4s, ETA:     0s\n",
      "[>>>>>>>>>>>>>>>>>>>>>>>>>>>>>>>>] 28/28, 30.0 task/s, elapsed: 1s, ETA:     0s\n"
     ]
    }
   ],
   "source": [
    "\n",
    "train_pathname = '/home/neau/sdb/datasets/leafs/train'\n",
    "val_pathname = '/home/neau/sdb/datasets/leafs/val'\n",
    "\n",
    "convert_to_coco(train_pathname,'/home/neau/sdb/datasets/leafs/train/annotation_coco.json')\n",
    "convert_to_coco(val_pathname,'/home/neau/sdb/datasets/leafs/val/annotation_coco.json')"
   ]
  },
  {
   "cell_type": "code",
   "execution_count": null,
   "metadata": {},
   "outputs": [],
   "source": []
  }
 ],
 "metadata": {
  "kernelspec": {
   "display_name": "openmmlab",
   "language": "python",
   "name": "python3"
  },
  "language_info": {
   "codemirror_mode": {
    "name": "ipython",
    "version": 3
   },
   "file_extension": ".py",
   "mimetype": "text/x-python",
   "name": "python",
   "nbconvert_exporter": "python",
   "pygments_lexer": "ipython3",
   "version": "3.8.16"
  },
  "orig_nbformat": 4
 },
 "nbformat": 4,
 "nbformat_minor": 2
}
